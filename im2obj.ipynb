{
 "cells": [
  {
   "cell_type": "code",
   "execution_count": 1,
   "metadata": {
    "colab": {
     "base_uri": "https://localhost:8080/",
     "height": 34
    },
    "colab_type": "code",
    "id": "1XWSzGjPU_pm",
    "outputId": "3d534a13-35ae-449e-d20d-33eda1a32858"
   },
   "outputs": [
    {
     "name": "stdout",
     "output_type": "stream",
     "text": [
      "TensorFlow 2.x selected.\n"
     ]
    }
   ],
   "source": [
    "%tensorflow_version 2.x\n",
    "# !pip install -q tensorflow_addons\n",
    "import tensorflow as tf\n",
    "from tensorflow.keras import layers\n",
    "import numpy as np\n",
    "import matplotlib.pyplot as plt\n",
    "# import tensorflow_addons as tfa\n",
    "\n"
   ]
  },
  {
   "cell_type": "code",
   "execution_count": 2,
   "metadata": {
    "colab": {
     "base_uri": "https://localhost:8080/",
     "height": 34
    },
    "colab_type": "code",
    "id": "0KhB_OcOX-6w",
    "outputId": "753a6db8-094c-4829-d822-54f8c4025b19"
   },
   "outputs": [
    {
     "name": "stdout",
     "output_type": "stream",
     "text": [
      "2.1.0-rc1\n"
     ]
    }
   ],
   "source": [
    "print(tf.__version__)\n",
    "import pathlib\n",
    "\n",
    "def parse_to_float_tf(line):\n",
    "    splited =  tf.strings.split(line)\n",
    "    return tf.compat.v2.strings.to_number(splited)\n",
    "\n",
    "def parse_to_float(line, sep= \" \"):\n",
    "    splited =  line.split(sep)\n",
    "    return np.array([float(x) for x in splited])\n",
    "\n",
    "def decode_img(img):\n",
    "  img = tf.image.decode_png(img, channels=3)\n",
    "  img = tf.image.convert_image_dtype(img, tf.float32)\n",
    "  return tf.image.resize(img, [IMG_WIDTH, IMG_HEIGHT])\n",
    "\n",
    "def process_path(file_path):    \n",
    "  img = tf.io.read_file(file_path)\n",
    "  img = decode_img(img)\n",
    "  return img, label"
   ]
  },
  {
   "cell_type": "code",
   "execution_count": 3,
   "metadata": {
    "colab": {
     "base_uri": "https://localhost:8080/",
     "height": 71
    },
    "colab_type": "code",
    "id": "QE7PNiC1REMQ",
    "outputId": "7e9b3a9e-4d3b-47ed-9240-ff3f35849c2a"
   },
   "outputs": [
    {
     "name": "stderr",
     "output_type": "stream",
     "text": [
      "/tensorflow-2.1.0/python3.6/keras_applications/imagenet_utils.py:279: UserWarning: This model usually expects 1 or 3 input channels. However, it was passed an input_shape with 9 input channels.\n",
      "  str(input_shape[-1]) + ' input channels.')\n"
     ]
    }
   ],
   "source": [
    "IMG_WIDTH = 256\n",
    "IMG_HEIGHT = 256\n",
    "BATCH_SIZE = 8\n",
    "BUFFER_SIZE = 1000\n",
    "UNITS = 256\n",
    "\n",
    "\n",
    "class CNN_Model(tf.keras.Model):\n",
    "    def __init__(self, units):\n",
    "        \n",
    "        # weight=None \"imagenet\"\n",
    "        super(CNN_Model, self).__init__()\n",
    "        self.units = units\n",
    "        self.conv_model = tf.keras.applications.ResNet50(weights= None, include_top=False, input_shape= (IMG_WIDTH,IMG_HEIGHT,9))\n",
    "        self.pooling = layers.GlobalAveragePooling2D()\n",
    "        #self.flatten = layers.Flatten()\n",
    "        self.d = layers.Dense(self.units,activation=\"tanh\")\n",
    "\n",
    "\n",
    "    def call(self, x, training):\n",
    "        x = self.conv_model(x)\n",
    "        x = self.pooling(x)\n",
    "        x = self.d(x)\n",
    "        return x\n",
    "\n",
    "class RNN_Model(tf.keras.Model):\n",
    "    def __init__(self, units):\n",
    "        super(RNN_Model, self).__init__()\n",
    "        self.units = units\n",
    "        self.gru = tf.keras.layers.LSTM(self.units,\n",
    "                                       return_sequences=True,                                       \n",
    "                                       recurrent_initializer='glorot_uniform',\n",
    "                                       name='rnn_gru_0')\n",
    "        self.gru2 = tf.keras.layers.LSTM(128,\n",
    "                                       return_sequences=True,\n",
    "                                       recurrent_initializer='glorot_uniform',\n",
    "                                       name='rnn_gru_1')\n",
    "        self.d1 = tf.keras.layers.Dense(self.units, activation='relu', name='rnn_dense_0_1')\n",
    "        self.d21 = tf.keras.layers.Dense(3, activation='tanh', name='rnn_dense_1_0')\n",
    "        self.d22 = tf.keras.layers.Dense(1, activation='sigmoid', name='rnn_dense_1_1')\n",
    "\n",
    "    def call(self, x, state, mask, training):\n",
    "        out = self.gru(x,initial_state=state,mask=mask,training=training)\n",
    "        out = self.gru2(out,mask=mask,training=training)\n",
    "        x = self.d1(out)\n",
    "        return self.d21(x), self.d22(x), state\n",
    "\n",
    "\n",
    "CNN = CNN_Model(UNITS)\n",
    "RNN = RNN_Model(UNITS)\n",
    "\n"
   ]
  },
  {
   "cell_type": "code",
   "execution_count": 0,
   "metadata": {
    "colab": {},
    "colab_type": "code",
    "id": "arHdeJEsLh4f"
   },
   "outputs": [],
   "source": [
    "\n",
    "optimizer = tf.keras.optimizers.Adam()\n",
    "bce = tf.keras.losses.BinaryCrossentropy(reduction='none')\n",
    "\n",
    "@tf.function\n",
    "def bce_loss(predicted, target,mask):\n",
    "    #mask = tf.math.logical_not(tf.math.equal(target, 0))\n",
    "    loss_ = bce(target,predicted)\n",
    "    #mask = tf.cast(mask, dtype=loss_.dtype)\n",
    "    #loss_ *= mask\n",
    "    return tf.reduce_mean(loss_)\n",
    "@tf.function\n",
    "def mse_loss(predicted, target,mask):    \n",
    "    #mask = tf.math.logical_not(tf.math.equal(target, 0))\n",
    "    loss_ = tf.square(predicted - target)\n",
    "    mask = tf.cast(mask, dtype=loss_.dtype)\n",
    "    loss_ *= mask\n",
    "    return tf.reduce_mean(loss_)\n"
   ]
  },
  {
   "cell_type": "code",
   "execution_count": null,
   "metadata": {
    "colab": {
     "base_uri": "https://localhost:8080/",
     "height": 122
    },
    "colab_type": "code",
    "id": "54cjvAnqnlV_",
    "outputId": "67c869f8-51a4-4ff6-b24d-a5b87af10666"
   },
   "outputs": [],
   "source": [
    "from google.colab import drive\n",
    "drive.mount('/content/drive')"
   ]
  },
  {
   "cell_type": "code",
   "execution_count": 0,
   "metadata": {
    "colab": {},
    "colab_type": "code",
    "id": "hdOUiiWhqwll"
   },
   "outputs": [],
   "source": [
    "print(tf.executing_eagerly())\n",
    "import pathlib\n",
    "\n",
    "data_dir = \"drive/My Drive/gsn_data/dataset\"\n",
    "data_dir = pathlib.Path(data_dir)\n",
    "\n",
    "def load_dataset_images(paths,vertices):    \n",
    "    images = []\n",
    "    return paths, vertices\n",
    "\n",
    "def load_lines():\n",
    "    lines_seqs=[]\n",
    "    masks=[] \n",
    "    lenghts = []\n",
    "    max_len = 0\n",
    "    for i,item in enumerate(data_dir.glob(\"*\")):\n",
    "        list_ds = tf.data.Dataset.list_files(str(item)+\"/*.txt\")\n",
    "        lines = []\n",
    "        for f in list_ds.take(1):\n",
    "            with open(f.numpy()) as v:\n",
    "                for line in v:                \n",
    "                    lines.append(parse_to_float(line))\n",
    "        if len(lines)>max_len:\n",
    "            max_len=len(lines)\n",
    "        lines_seqs.append(lines)\n",
    "        masks.append(np.ones(len(lines), dtype=bool))\n",
    "        lenghts.append(len(lines))\n",
    "\n",
    "    for i in range(len(masks)):\n",
    "        masks[i] = np.pad(masks[i],(0,max_len-len(masks[i])),'constant') \n",
    " \n",
    "    lines_padded = tf.keras.preprocessing.sequence.pad_sequences(lines_seqs, padding='post',maxlen=max_len,dtype='float32')\n",
    "    return lines_padded,masks,lenghts\n",
    "\n",
    "\n",
    "def load_images_paths():\n",
    "    images_paths=[]\n",
    "    for item in data_dir.glob(\"*\"):\n",
    "        images =  [str(item)+f\"/{i}.png\" for i in range(3)]\n",
    "        images_paths.append([images[0],images[1],images[2]])\n",
    "  \n",
    "    return images_paths\n",
    "def gen():\n",
    "    #print(\"START\")\n",
    "    for item in data_dir.glob(\"*\"):\n",
    "        list_ds = tf.data.Dataset.list_files(str(item)+\"/*.txt\")\n",
    "        # images_paths = [str(p) for p in item.glob(\"*.png\")]\n",
    "        list_images = tf.data.Dataset.list_files(str(item)+\"/*.png\")\n",
    "        images = [img for img in list_images.take(3)]\n",
    "        \n",
    "        lines = []\n",
    "        for f in list_ds.take(1):\n",
    "            with open(f.numpy()) as v:\n",
    "                for line in v:                \n",
    "                    lines.append(parse_to_float(line))\n",
    "        # yield (features,lines,len(lines))\n",
    "        yield images[0],images[1],images[2],lines,len(lines)\n",
    "\n",
    "def map_func(path1, path2, path3, vertices, length):    \n",
    "    img1 = tf.io.read_file(path1)\n",
    "    img1 = decode_img(img1)\n",
    "    img2 = tf.io.read_file(path2)\n",
    "    img2 = decode_img(img2)\n",
    "    img3 = tf.io.read_file(path3)\n",
    "    img3 = decode_img(img3)\n",
    "    return img1,img2,img3,vertices,length\n",
    "\n",
    "def map_func2(paths, vertices):    \n",
    "    img1 = tf.io.read_file(paths[0])\n",
    "    img1 = decode_img(img1)\n",
    "    img2 = tf.io.read_file(paths[1])\n",
    "    img2 = decode_img(img2)\n",
    "    img3 = tf.io.read_file(paths[2])\n",
    "    img3 = decode_img(img3)\n",
    "    return img1,img2,img3,vertices\n",
    "    \n",
    "\n",
    "vertices_list = load_lines()\n",
    "images_list = load_images_paths()\n",
    "\n",
    "dataset = tf.data.Dataset.from_tensor_slices((images_list,vertices_list))\n",
    "rest = dataset.skip(1500).map(map_func2)\n",
    "dataset = dataset.take(1500) \n",
    "dataset = dataset.shuffle(1000).map(map_func2).batch(BATCH_SIZE)\n",
    "dataset = dataset.prefetch(buffer_size=tf.data.experimental.AUTOTUNE)\n"
   ]
  },
  {
   "cell_type": "code",
   "execution_count": 0,
   "metadata": {
    "colab": {},
    "colab_type": "code",
    "id": "hJ59lhZOqSer"
   },
   "outputs": [],
   "source": [
    "@tf.function\n",
    "def train_step(img_tensor, target,mask,length,training):\n",
    "    loss = 0\n",
    "\n",
    "    dummy_featues = tf.ones((target.shape[0],target.shape[1], UNITS))\n",
    "    # embedding = layers.Embedding(input_dim=5000, output_dim=16, mask_zero=True)\n",
    "    # mask1 = embedding.compute_mask(target)\n",
    "  \n",
    "    with tf.GradientTape() as tape:\n",
    "        \n",
    "        cnn_out = CNN(img_tensor,training)\n",
    "        hidden_state = [cnn_out, tf.zeros((target.shape[0], UNITS))]\n",
    "        out1, out2, hidden_state = RNN(dummy_featues,hidden_state,mask,training)\n",
    "        \n",
    "\n",
    "        loss += chamfer_distance_tf(out1,target[:, :, :3],length)\n",
    "        # loss += mse_loss(out1,target[:, :,:3],mask1[:,:,:3])\n",
    "        loss += bce_loss(out2, target[:, :, 3], mask)\n",
    "\n",
    "    total_loss = loss/int(target.shape[1])\n",
    "\n",
    "    #print(\"Losses:\",total_loss,loss)\n",
    "    trainable_vars = CNN.trainable_variables + RNN.trainable_variables \n",
    "    grad = tape.gradient(loss, trainable_vars)\n",
    "    optimizer.apply_gradients(zip(grad,trainable_vars))\n",
    "    loss= loss*1000\n",
    "\n",
    "    return loss, total_loss"
   ]
  },
  {
   "cell_type": "code",
   "execution_count": 0,
   "metadata": {
    "colab": {},
    "colab_type": "code",
    "id": "dWtoqD0Th88g"
   },
   "outputs": [],
   "source": [
    "import os\n",
    "import shutil\n",
    "EPOCHS = 50\n",
    "\n",
    "losses = []\n",
    "\n",
    "for epoch in range(EPOCHS):\n",
    "    # start = time.time()\n",
    "    total_loss = 0\n",
    "\n",
    "    for (batch, (img1,img2,img3,(target,mask,length))) in enumerate(dataset):\n",
    "        img_tensor = tf.concat([img1,img2,img3], axis=3)\n",
    "        b_loss, t_loss = train_step(img_tensor, target,mask,length,True)\n",
    "        total_loss += t_loss\n",
    "\n",
    "        if batch % 100 == 0:\n",
    "            print ('Epoch {} Batch {} Loss {:.4f}'.format(\n",
    "              epoch + 1, batch, b_loss.numpy() / int(target.shape[1])))\n",
    "\n",
    "    print ('Epoch {} Loss {:.6f}'.format(epoch + 1,total_loss))\n",
    "    losses.append(total_loss)\n",
    "\n",
    "CNN.save_weights('./checkpointsC1/cpCNN.ckpt')\n",
    "RNN.save_weights('./checkpointsR1/cpRNN.ckpt')"
   ]
  },
  {
   "cell_type": "code",
   "execution_count": 20,
   "metadata": {
    "colab": {
     "base_uri": "https://localhost:8080/",
     "height": 119
    },
    "colab_type": "code",
    "id": "JlzNyiCOOSYh",
    "outputId": "11c37a34-e4da-479b-b316-8797712b2b40"
   },
   "outputs": [
    {
     "name": "stdout",
     "output_type": "stream",
     "text": [
      "test3/0.png\n",
      "test3/2.png\n",
      "test3/1.png\n",
      "3\n",
      "999 64\n",
      "0.0050867437\n"
     ]
    }
   ],
   "source": [
    "import pathlib\n",
    "import numpy as np\n",
    "max_length = 1010\n",
    "\n",
    "def evaluate(path):\n",
    "    # CNN.load_weights('./checkpointsCfinal/cpCNN.ckpt')   \n",
    "    # RNN.load_weights('./checkpointsRfinal/cpRNN.ckpt')\n",
    "    test_dir = pathlib.Path(path)\n",
    "    images = []\n",
    "    xt=[]\n",
    "    yt=[]\n",
    "    zt=[]\n",
    "    for i,item in enumerate(test_dir.glob(\"*.png\")):\n",
    "        print(str(item))\n",
    "        img = tf.io.read_file(str(test_dir)+f\"/{i}.png\")\n",
    "        img = tf.image.decode_png(img, channels=3)\n",
    "        img = tf.image.convert_image_dtype(img, tf.float32)\n",
    "        img = tf.image.resize(img, [IMG_WIDTH, IMG_HEIGHT])\n",
    "        images.append(img)\n",
    "    for i,item in enumerate(test_dir.glob(\"*.txt\")):\n",
    "        with open(str(item)) as v:\n",
    "            for line in v:\n",
    "                vxs = parse_to_float(line)\n",
    "                xt.append(vxs[0])\n",
    "                yt.append(vxs[1]) \n",
    "                zt.append(vxs[2])           \n",
    "                    \n",
    "    print(len(images))    \n",
    "    if len(images) !=3:\n",
    "        raise Exception(\"Wrong number of images\")\n",
    "    input_images = np.concatenate(images,axis=2)\n",
    "    input_images = tf.expand_dims(input_images,0)\n",
    "    dummy_featues = tf.ones((1,max_len, UNITS))\n",
    "    mask = tf.ones((1,max_len, UNITS),dtype=tf.bool)\n",
    "    hidden_state = CNN(input_images,False)\n",
    "    hidden_state = [hidden_state, tf.zeros((1, UNITS))]\n",
    "   \n",
    "    out1, out2, hidden_state = RNN(dummy_featues,hidden_state,None,False)\n",
    "\n",
    "    result = []\n",
    "    x=[]\n",
    "    y=[]\n",
    "    z=[]\n",
    "    end = np.argmax(out2.numpy()[0])\n",
    "    print(end,len(xt))\n",
    "    print(np.max(out2.numpy()[0]))\n",
    "    with open(\"rmse_v_test3.txt\",'w') as f:\n",
    "        for i in range(end):\n",
    "            l = out1.numpy()[0][i]\n",
    "            f.write(f'{l[0]},{l[1]},{l[2]}\\n')\n",
    "            x.append(l[0])\n",
    "            y.append(l[1])\n",
    "            z.append(l[2])\n",
    "\n",
    "    return x,y,z,xt,yt,zt\n",
    "xs,ys,zs,xt,yt,zt= evaluate(\"test\")"
   ]
  },
  {
   "cell_type": "code",
   "execution_count": 21,
   "metadata": {
    "colab": {
     "base_uri": "https://localhost:8080/",
     "height": 319
    },
    "colab_type": "code",
    "id": "FKFh2T_6_Dr0",
    "outputId": "af037560-b686-4519-dd83-565ea55bf092"
   },
   "outputs": [
    {
     "data": {
      "image/png": "[encoded data removed]",
      "text/plain": [
       "<Figure size 432x288 with 1 Axes>"
      ]
     },
     "metadata": {
      "tags": []
     },
     "output_type": "display_data"
    }
   ],
   "source": [
    "import matplotlib\n",
    "import matplotlib.pyplot as plt\n",
    "%matplotlib inline\n",
    "from mpl_toolkits.mplot3d import axes3d, Axes3D \n",
    "\n",
    "def n(p):\n",
    "    pmax = np.max(p)\n",
    "    pmin = np.min(p)\n",
    "    df = pmax-pmin\n",
    "    return list(map(lambda x :(x-pmin)/df, p))\n",
    "\n",
    "fig = plt.figure()\n",
    "i=100\n",
    "ax = Axes3D(fig)\n",
    "ax.view_init(elev=40, azim=60)\n",
    "\n",
    "ax.grid(False)\n",
    "\n",
    "ax.set_xticks([])\n",
    "ax.set_yticks([])\n",
    "ax.set_zticks([])\n",
    "ax.scatter(zs[:i],xs[:i],ys[:i],  marker=\"o\")\n",
    "ax.scatter(zt,xt, yt,  marker=\"o\")\n",
    "\n",
    "plt.show()"
   ]
  },
  {
   "cell_type": "markdown",
   "metadata": {
    "colab_type": "text",
    "id": "VBZRreW_OS21"
   },
   "source": [
    "_________________________________________________________________________\n",
    "_________________________________________________________________________\n",
    "_________________________________________________________________________\n",
    "_________________________________________________________________________\n",
    "_________________________________________________________________________\n",
    "\n",
    "\n"
   ]
  },
  {
   "cell_type": "code",
   "execution_count": 0,
   "metadata": {
    "colab": {},
    "colab_type": "code",
    "id": "Iyg9pDPdgFll"
   },
   "outputs": [],
   "source": [
    "def distance_matrix(array1, array2,length):\n",
    "\n",
    "    # num_point, num_features = array1.shape\n",
    "    expanded_array1 = tf.tile(array1, (length, 1))\n",
    "    expanded_array2 = tf.reshape(\n",
    "                        tf.tile(\n",
    "                            tf.expand_dims(array2, 1), \n",
    "                        (1, length, 1)),\n",
    "                    (-1, 3))\n",
    "    distances = tf.norm(expanded_array1-expanded_array2, axis=1)\n",
    "    distances = tf.reshape(distances, (length, length))\n",
    "    return distances\n",
    "\n",
    "def av_dist(array1, array2, length):\n",
    "\n",
    "    distances = distance_matrix(array1, array2,length)\n",
    "    distances = tf.reduce_min(distances, axis=1)\n",
    "    distances = tf.reduce_mean(distances)\n",
    "    return distances\n",
    "\n",
    "def av_dist_sum(arrays):\n",
    "\n",
    "    array1, array2, length = arrays\n",
    "    array1 = array1[:length,:]\n",
    "    array2 = array2[:length,:]\n",
    "    av_dist1 = av_dist(array1, array2,length)\n",
    "    av_dist2 = av_dist(array2, array1,length)\n",
    "    return av_dist1+av_dist2\n",
    "\n",
    "\n",
    "def chamfer_distance_tf(array1, array2, lengths):\n",
    "    dist = tf.reduce_mean(\n",
    "               tf.map_fn(av_dist_sum, elems=(array1, array2, lengths), dtype=tf.float32)\n",
    "           )\n",
    "    return dist"
   ]
  },
  {
   "cell_type": "code",
   "execution_count": 24,
   "metadata": {
    "colab": {
     "base_uri": "https://localhost:8080/",
     "height": 54
    },
    "colab_type": "code",
    "id": "oUVLEMHagASE",
    "outputId": "d9d3179b-e884-48f9-e6d0-41c3e8f9d94c"
   },
   "outputs": [
    {
     "name": "stdout",
     "output_type": "stream",
     "text": [
      "[-70, -480, -275, -220, -9, -121, -220, -29, -86, -157, -349, -72, -87, -161, -2, -11, -9, -170, -151, -239, -40, -447, -196, -208, -736, -30, -301, -7, -213, -395, -609, -231, -7, -71, -564, -383, -169, -29, -411, -358, -297, -593, -7, -96, -159, -302, -1, -86, -65, -111, -7, -249, -571, -235, -7, -346, -170, -61, -1, -199, -231, -43, -3, -94, -153, -135, -26, -7, -74, -7, -7, -132, -521, -71, -288, -100, -263, -273, -105, -261, -558, -109, -74, -264, -158, -86, -7, -2, -183, -94, -565, -1, -25, -14, -149, -1, -163, -15, -20, -223, -1, -330, -1, -495, -255, -577, -1, -191, -394, -190, -144, -390, -207, -314, -23, -157, -87, -35, -188, -115, -8, -269, -293, -1, -51, -249, -97, -63, -105, -9, -106, -310, -293, -808, -123, -110, -116, -19, -215, -1, -239, -59, -449, -1, -370, -55, -172, -777, -1, -461, -469, -360, -53, -102, -215, -40, -201, -276, -1, -90, -356, -16, -309, -15, -10, -70, -65, -211, -2, -11, -50, -119, -246, -70, -249, -387, -50, -7, -27, -37, -356, -767, -193, -104, -177, -181, -1, -15, -3, -1, -17, -270, -156, -155, -234, -23, -115, -9, -432, -356, -273, -60, -136, -10, -83, -299, -51, -283, -33, -259, -17, -358, -277]\n"
     ]
    }
   ],
   "source": [
    "#Test dataset eval\n",
    "\n",
    "test_losses = []\n",
    "length_diff = []\n",
    "CNN.load_weights('./checkpointsCfinal/cpCNN.ckpt')   \n",
    "RNN.load_weights('./checkpointsRfinal/cpRNN.ckpt')\n",
    "for (batch, (img1,img2,img3,(target,mask,length))) in enumerate(rest):\n",
    "    loss= 0\n",
    "    img_tensor = tf.concat([img1,img2,img3], axis=2)\n",
    "    img_tensor = tf.expand_dims(img_tensor,0)\n",
    "    target = tf.expand_dims(target,0)\n",
    "    mask = tf.expand_dims(mask,0)\n",
    "    # length = tf.expand_dims(length,0)\n",
    "\n",
    "    dummy_featues = tf.ones((target.shape[0],target.shape[1], UNITS))\n",
    "\n",
    "    hidden_state = CNN(img_tensor,False)\n",
    "    hidden_state = [hidden_state, tf.zeros((target.shape[0], UNITS))]\n",
    "    out1, out2, hidden_state = RNN(dummy_featues,hidden_state,mask,False)\n",
    "    \n",
    "    seq_end = np.argmax(out2.numpy()[0])\n",
    "    length_diff.append(seq_end-length.numpy())\n",
    "\n",
    "    loss += chamfer_distance_tf(out1,target[:, :, :3],length)\n",
    "    loss += bce_loss(out2, target[:, :, 3], mask)\n",
    "    total_loss = loss/int(target.shape[1])\n",
    "    test_losses.append(total_loss)\n"
   ]
  },
  {
   "cell_type": "code",
   "execution_count": 40,
   "metadata": {
    "colab": {
     "base_uri": "https://localhost:8080/",
     "height": 413
    },
    "colab_type": "code",
    "id": "UApf2JD77EaP",
    "outputId": "1e54139d-5531-426c-991e-5225ee9a77d8"
   },
   "outputs": [
    {
     "data": {
      "image/png": "[encoded data removed]",
      "text/plain": [
       "<Figure size 1152x432 with 2 Axes>"
      ]
     },
     "metadata": {
      "tags": []
     },
     "output_type": "display_data"
    }
   ],
   "source": [
    "np.mean(length_diff)\n",
    "fig = plt.figure(figsize=(16,6))\n",
    "\n",
    "ax = fig.add_subplot(1, 2, 1)\n",
    "ax.bar(range(len(length_diff)),length_diff)\n",
    "ax.set_ylabel(\"Różnica liczby wierzchołków\")\n",
    "ax.set_xlabel(\"Przykład testowy\")\n",
    "\n",
    "ax = fig.add_subplot(1, 2, 2)\n",
    "ax.hist(length_diff)\n",
    "plt.axvline(np.mean(length_diff), color='red', linestyle='dashed', linewidth=2)\n",
    "\n",
    "ax.set_xlabel(\"Różnica liczby wierzchołków\")\n",
    "ax.set_ylabel(\"Liczba\")\n",
    "plt.savefig(\"diff.png\")\n",
    "plt.show()"
   ]
  },
  {
   "cell_type": "code",
   "execution_count": 27,
   "metadata": {
    "colab": {
     "base_uri": "https://localhost:8080/",
     "height": 390
    },
    "colab_type": "code",
    "id": "jKGtFtT1jANO",
    "outputId": "50b195a0-fdbd-4107-81c5-36d86e791117"
   },
   "outputs": [
    {
     "name": "stdout",
     "output_type": "stream",
     "text": [
      "0.0419534407556057\n"
     ]
    },
    {
     "data": {
      "image/png": "[encoded data removed]",
      "text/plain": [
       "<Figure size 720x432 with 2 Axes>"
      ]
     },
     "metadata": {
      "tags": []
     },
     "output_type": "display_data"
    }
   ],
   "source": [
    "import matplotlib.pyplot as plt\n",
    "from matplotlib import cm\n",
    "import numpy as np\n",
    "\n",
    "from mpl_toolkits.mplot3d.axes3d import get_test_data\n",
    "# This import registers the 3D projection, but is otherwise unused.\n",
    "from mpl_toolkits.mplot3d import Axes3D  # noqa: F401 unused import\n",
    "\n",
    "files = ['rmse_v_test3.txt']\n",
    "files2 = ['test3/v.txt']\n",
    "def n(p):\n",
    "    pmax = np.max(p)\n",
    "    pmin = np.min(p)\n",
    "    df = pmax-pmin\n",
    "    return list(map(lambda x :(x-pmin)/df, p))\n",
    "\n",
    "predicted=[]\n",
    "truth = []\n",
    "for i in range(len(files)):\n",
    "    xx = []\n",
    "    yy=[]\n",
    "    zz=[]\n",
    "    vertices=[]\n",
    "    with open(files[i],'r') as fp:\n",
    "        for line in fp:\n",
    "            vxs = parse_to_float(line,sep=\",\")\n",
    "            xx.append(vxs[0])\n",
    "            yy.append(vxs[1]) \n",
    "            zz.append(vxs[2])\n",
    "    vertices.append(xx)\n",
    "    vertices.append(yy)\n",
    "    vertices.append(zz)\n",
    "    predicted.append(vertices)\n",
    "\n",
    "for i in range(len(files2)):\n",
    "    xx = []\n",
    "    yy=[]\n",
    "    zz=[]\n",
    "    vertices=[]\n",
    "    with open(files2[i],'r') as fp:\n",
    "        for line in fp:\n",
    "            vxs = parse_to_float(line,sep=\" \")\n",
    "            xx.append(vxs[0])\n",
    "            yy.append(vxs[1]) \n",
    "            zz.append(vxs[2])\n",
    "    vertices.append(xx)\n",
    "    vertices.append(yy)\n",
    "    vertices.append(zz)\n",
    "    truth.append(vertices)\n",
    "\n",
    "fig = plt.figure(figsize=(10,6))\n",
    "\n",
    "#LSTM\n",
    "ax = fig.add_subplot(1, 2, 1, projection='3d')\n",
    "ax.grid(False)\n",
    "ax.set_xticks([])\n",
    "ax.set_yticks([])\n",
    "ax.set_zticks([])\n",
    "ax.title.set_text('A.')\n",
    "\n",
    "X= predicted[0][0]\n",
    "Y= predicted[0][1]\n",
    "Z= predicted[0][2]\n",
    "ax.scatter(n(Z), n(X), n(Y))\n",
    "print(np.max(X))\n",
    "\n",
    "X= truth[0][0]\n",
    "Y= truth[0][1]\n",
    "Z= truth[0][2]\n",
    "ax.scatter(n(Z), n(X), n(Y))\n",
    "\n",
    "# #GRU\n",
    "# ax = fig.add_subplot(1, 3, 2, projection='3d')\n",
    "# ax.grid(False)\n",
    "# ax.set_xticks([])\n",
    "# ax.set_yticks([])\n",
    "# ax.set_zticks([])\n",
    "# ax.title.set_text('B.')\n",
    "\n",
    "# # plot a 3D wireframe like in the example mplot3d/wire3d_demo\n",
    "# X= predicted[0][0]\n",
    "# Y= predicted[0][1]\n",
    "# Z= predicted[0][2]\n",
    "# ax.scatter(Z, X, Y)\n",
    "\n",
    "# X= truth[0][0]\n",
    "# Y= truth[0][1]\n",
    "# Z= truth[0][2]\n",
    "# ax.scatter(Z,X, Y)\n",
    "\n",
    "#IMG\n",
    "ax = fig.add_subplot(1, 2, 2)\n",
    "ax.title.set_text('B.')\n",
    "image = plt.imread('test3/2.png')\n",
    "ax.imshow(image)\n",
    "plt.savefig(\"plot_rmse_test3.png\")\n",
    "plt.show()"
   ]
  }
 ],
 "metadata": {
  "accelerator": "GPU",
  "colab": {
   "collapsed_sections": [],
   "machine_shape": "hm",
   "name": "Copy_of_gsn.ipynb",
   "provenance": []
  },
  "kernelspec": {
   "display_name": "Python 3",
   "language": "python",
   "name": "python3"
  },
  "language_info": {
   "codemirror_mode": {
    "name": "ipython",
    "version": 3
   },
   "file_extension": ".py",
   "mimetype": "text/x-python",
   "name": "python",
   "nbconvert_exporter": "python",
   "pygments_lexer": "ipython3",
   "version": "3.7.4"
  }
 },
 "nbformat": 4,
 "nbformat_minor": 1
}
